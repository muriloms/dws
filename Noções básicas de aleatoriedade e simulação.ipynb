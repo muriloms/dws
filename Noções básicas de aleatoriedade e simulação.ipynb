{
 "cells": [
  {
   "cell_type": "code",
   "execution_count": 17,
   "metadata": {},
   "outputs": [],
   "source": [
    "import numpy as np\n",
    "import matplotlib as plt"
   ]
  },
  {
   "cell_type": "markdown",
   "metadata": {},
   "source": [
    "### Variável aleatória de Poisson\n",
    "O módulo numpy.random também possui várias distribuições de probabilidade úteis para variáveis aleatórias discretas e contínuas. Neste exercício, você aprenderá como extrair amostras de uma distribuição de probabilidade.\n",
    "\n",
    "Em particular, você irá desenhar amostras de uma distribuição de probabilidade discreta muito importante, a distribuição de Poisson, que é tipicamente usada para modelar a taxa média na qual os eventos ocorrem.\n",
    "\n",
    "Após o exercício, você deve poder aplicar essas etapas a qualquer uma das distribuições de probabilidade encontradas em numpy.random. Além disso, você também verá como a média da amostra muda à medida que extraímos mais amostras de uma distribuição."
   ]
  },
  {
   "cell_type": "code",
   "execution_count": 14,
   "metadata": {},
   "outputs": [],
   "source": [
    "# Inicializar seed e parâmetros\n",
    "np.random.seed(123) # definir para poder reproduzir os mesmos resultados\n",
    "lam, size_1, size_2 = 5, 3, 1000"
   ]
  },
  {
   "cell_type": "code",
   "execution_count": 15,
   "metadata": {},
   "outputs": [
    {
     "name": "stdout",
     "output_type": "stream",
     "text": [
      "|Lambda - média da amostra| com 3 amostras é 0.33333333333333304 e com 1000 amostras é 0.07699999999999996. \n"
     ]
    }
   ],
   "source": [
    "# Desenhar amostras e calcular a diferença absoluta entre lambda e a média da amostra\n",
    "samples_1 = np.random.poisson(lam, size_1)\n",
    "samples_2 = np.random.poisson(lam, size_2)\n",
    "answer_1 = abs(np.mean(samples_1) - lam)\n",
    "answer_2 = abs(np.mean(samples_2) - lam)\n",
    "\n",
    "print(\"|Lambda - média da amostra| com {} amostras é {} e com {} amostras é {}. \".format(size_1, answer_1, size_2, answer_2))"
   ]
  },
  {
   "cell_type": "markdown",
   "metadata": {},
   "source": [
    "### Embaralhando um baralho de cartas\n",
    "\n",
    "Muitas vezes estamos interessados em randomizar a ordem de um conjunto de itens. Considere um jogo de cartas onde primeiro embaralhe o baralho de cartas ou um jogo de scrabble onde as letras são primeiro misturadas em uma sacola. Como exercício final desta seção, você aprenderá outra função útil - np.random.shuffle (). Esta função permite aleatoriamente embaralhar uma seqüência no lugar. No final deste exercício, você saberá como embaralhar um baralho de cartas ou qualquer sequência de itens."
   ]
  },
  {
   "cell_type": "code",
   "execution_count": 21,
   "metadata": {},
   "outputs": [],
   "source": [
    "# Baralho de cartas\n",
    "deck_of_cards = [('Heart', 0), ('Heart', 1), ('Heart', 2), ('Heart', 3), ('Heart', 4), ('Heart', 5), ('Heart', 6), ('Heart', 7), ('Heart', 8),\n",
    "                 ('Heart', 9), ('Heart', 10), ('Heart', 11), ('Heart', 12), ('Club', 0), ('Club', 1), ('Club', 2), ('Club', 3), ('Club', 4), \n",
    "                 ('Club', 5), ('Club', 6), ('Club', 7), ('Club', 8), ('Club', 9), ('Club', 10), ('Club', 11), ('Club', 12), ('Spade', 0), \n",
    "                 ('Spade', 1), ('Spade', 2), ('Spade', 3), ('Spade', 4), ('Spade', 5), ('Spade', 6), ('Spade', 7), ('Spade', 8), ('Spade', 9), \n",
    "                 ('Spade', 10), ('Spade', 11), ('Spade', 12), ('Diamond', 0), ('Diamond', 1), ('Diamond', 2), ('Diamond', 3), ('Diamond', 4), \n",
    "                 ('Diamond', 5), ('Diamond', 6), ('Diamond', 7), ('Diamond', 8), ('Diamond', 9), ('Diamond', 10), ('Diamond', 11), ('Diamond', 12)]"
   ]
  },
  {
   "cell_type": "code",
   "execution_count": 28,
   "metadata": {},
   "outputs": [
    {
     "name": "stdout",
     "output_type": "stream",
     "text": [
      "[('Diamond', 8), ('Diamond', 7), ('Club', 10)]\n"
     ]
    }
   ],
   "source": [
    "# Embaralhar\n",
    "np.random.shuffle(deck_of_cards) \n",
    "\n",
    "# Imprmir as três principais cartas\n",
    "card_choices_after_shuffle = deck_of_cards[0:3]\n",
    "print(card_choices_after_shuffle)"
   ]
  },
  {
   "cell_type": "markdown",
   "metadata": {},
   "source": [
    "### Jogando um dado justo\n",
    "\n",
    "Depois de entender os conceitos básicos de criação de uma simulação, você pode aplicá-la a qualquer sistema ou processo. Em seguida, aprenderemos como cada etapa é implementada usando alguns exemplos básicos.\n",
    "\n",
    "Como aprendemos, a simulação envolve amostragem aleatória repetida. O primeiro passo, então, é obter uma amostra aleatória. Depois disso, tudo o que fazemos é repetir o processo várias vezes. Este exercício se concentrará em entender como obtemos uma amostra aleatória. Vamos estudar isso no contexto de jogar um dado de seis lados justo.\n",
    "\n",
    "No final deste exercício, você estará familiarizado com a maneira de implementar as duas primeiras etapas da execução de uma simulação - definindo uma variável aleatória e atribuindo probabilidades."
   ]
  },
  {
   "cell_type": "code",
   "execution_count": 32,
   "metadata": {},
   "outputs": [
    {
     "name": "stdout",
     "output_type": "stream",
     "text": [
      "O resultado do lançamento é: 5\n"
     ]
    }
   ],
   "source": [
    "# Definir os valores do dado (die), probabilidade e lançamento (throws)\n",
    "die, probabilities, throws = [1,2,3,4,5,6], [1/6,1/6,1/6,1/6,1/6,1/6], 1\n",
    "\n",
    "# jogar o dado uma vez e registrar o resultado\n",
    "outcome = np.random.choice(die, size=throws, p=probabilities)\n",
    "\n",
    "print(\"O resultado do lançamento é: {}\".format(outcome[0]))"
   ]
  },
  {
   "cell_type": "markdown",
   "metadata": {},
   "source": [
    "### Jogando dois dados justos\n",
    "\n",
    "Agora sabemos como implementar as duas primeiras etapas de uma simulação. Agora vamos implementar o próximo passo - definir a relação entre variáveis aleatórias.\n",
    "\n",
    "Muitas vezes, nossa simulação envolve não apenas uma, mas várias variáveis aleatórias. Considere um jogo onde você joga dois dados e ganha se cada dado mostrar o mesmo número. Aqui nós temos duas variáveis aleatórias - os dois dados - e uma relação entre cada um deles - nós ganhamos se eles mostrarem o mesmo número, perdemos se eles não mostrarem. Na realidade, a relação entre variáveis aleatórias pode ser muito mais complexa, especialmente ao simular coisas como padrões climáticos.\n",
    "\n",
    "No final deste exercício, você estará familiarizado com a implementação do terceiro passo da execução de uma simulação - definindo relações entre variáveis aleatórias."
   ]
  },
  {
   "cell_type": "code",
   "execution_count": 43,
   "metadata": {},
   "outputs": [
    {
     "name": "stdout",
     "output_type": "stream",
     "text": [
      "O resultado dos dados foram 5 e 5. Você ganhou!\n"
     ]
    }
   ],
   "source": [
    "# Definir o número de dados, simular e registrar os resultados\n",
    "die, probabilities, num_dice = [1,2,3,4,5,6], [1/6, 1/6, 1/6, 1/6, 1/6, 1/6], 2\n",
    "outcomes = np.random.choice(die, size=num_dice, p=probabilities)\n",
    "\n",
    "# Ganha se o resultado dos dois dados forem iguais\n",
    "if outcomes[0] == outcomes[1]: \n",
    "    answer = 'ganhou' \n",
    "else:\n",
    "    answer = 'perdeu'\n",
    "\n",
    "print(\"O resultado dos dados foram {} e {}. Você {}!\".format(outcomes[0], outcomes[1], answer))"
   ]
  },
  {
   "cell_type": "markdown",
   "metadata": {},
   "source": [
    "### Simulando o jogo de dados\n",
    "\n",
    "Agora sabemos como implementar as três primeiras etapas de uma simulação. Agora vamos considerar a próxima etapa - amostragem aleatória repetida.\n",
    "\n",
    "Simular um resultado uma vez não nos diz muito sobre a frequência com que podemos esperar ver esse resultado. No caso do jogo de dados do exercício anterior, é ótimo termos vencido uma vez. Mas suponha que queremos ver quantas vezes podemos esperar ganhar se jogarmos esse jogo várias vezes, precisamos repetir o processo de amostragem aleatória muitas vezes. Repetir o processo de amostragem aleatória é útil para entender e visualizar a incerteza inerente e decidir os próximos passos.\n",
    "\n",
    "Após este exercício, você estará familiarizado com a implementação da quarta etapa de execução de uma simulação - amostragem repetida e geração de resultados."
   ]
  },
  {
   "cell_type": "code",
   "execution_count": 50,
   "metadata": {},
   "outputs": [
    {
     "name": "stdout",
     "output_type": "stream",
     "text": [
      "Com 100 jogos, você ganhou 17 vezes\n"
     ]
    }
   ],
   "source": [
    "# Definir parâmetros do modelo e simular lançamento dos dados\n",
    "die, probabilities, num_dice = [1,2,3,4,5,6], [1/6, 1/6, 1/6, 1/6, 1/6, 1/6], 2\n",
    "sims, wins = 100, 0\n",
    "\n",
    "for i in range(sims):\n",
    "    outcomes = outcomes = np.random.choice(die, size=num_dice, p=probabilities)\n",
    "    # Increment `wins` by 1 if the dice show same number\n",
    "    if outcomes[0] == outcomes[1]: \n",
    "        wins = wins + 1 \n",
    "\n",
    "print(\"Com {} jogos, você ganhou {} vezes\".format(sims, wins))"
   ]
  },
  {
   "cell_type": "markdown",
   "metadata": {},
   "source": [
    "### Simulando um sorteio de loteria\n",
    "\n",
    "Nos últimos três exercícios deste capítulo, estaremos reunindo tudo o que você aprendeu até agora. Nós executaremos uma simulação completa, tomaremos uma decisão com base nos resultados observados e aprenderemos a modificar as entradas para o modelo de simulação.\n",
    "\n",
    "Usaremos simulações para descobrir se queremos ou não comprar um bilhete de loteria. Suponha que você tenha a oportunidade de comprar um bilhete de loteria que lhe dê uma chance de ganhar um grande prêmio de US\\$ 1 milhão. Como existem 1000 bilhetes no total, sua probabilidade de ganhar é de 1 em 1000. Cada bilhete custa US\\$ 10. Vamos usar nosso entendimento de simulações básicas para primeiro simular um desenho da loteria."
   ]
  },
  {
   "cell_type": "code",
   "execution_count": 61,
   "metadata": {},
   "outputs": [
    {
     "name": "stdout",
     "output_type": "stream",
     "text": [
      "Resultado de um sorteio da loteria é [5]\n"
     ]
    }
   ],
   "source": [
    "# Definir preço do bilhet, número de bilhetes disponíveis e valor do premio\n",
    "preco_bilhete, num_bilhetes, valor_premio = 10, 1000, 1000000\n",
    "\n",
    "# Probabilidade de vencer\n",
    "chance_vencer = 1/num_bilhetes\n",
    "\n",
    "# Código para simular um único sorteio da loteria\n",
    "ganhos = [-preco_bilhete, valor_premio-preco_bilhete]\n",
    "probabilidade = [1-chance_vencer, chance_vencer]\n",
    "resultado = np.random.choice(a=ganhos, size=1, p=probabilidade, replace=True)\n",
    "\n",
    "print(\"Resultado de um sorteio da loteria é {}\".format(outcome))"
   ]
  },
  {
   "cell_type": "markdown",
   "metadata": {},
   "source": [
    "### Devemos comprar?\n",
    "\n",
    "No último exercício, simulamos o sorteio aleatório do bilhete de loteria uma vez. Neste exercício, concluímos o processo de simulação repetindo o processo várias vezes.\n",
    "\n",
    "Repetir o processo nos dá vários resultados. Podemos pensar nisso como múltiplos universos onde o mesmo sorteio ocorreu. Podemos então determinar os ganhos médios em todos esses universos. Se os ganhos médios são maiores do que o que pagamos pelo bilhete, então faz sentido comprá-lo, caso contrário, podemos não querer comprar o bilhete.\n",
    "\n",
    "Isso é tipicamente como as simulações são usadas para avaliar os investimentos das empresas. Depois de concluir este exercício, você terá as ferramentas básicas necessárias para usar simulações para a tomada de decisões."
   ]
  },
  {
   "cell_type": "code",
   "execution_count": 69,
   "metadata": {},
   "outputs": [
    {
     "name": "stdout",
     "output_type": "stream",
     "text": [
      "Retorno médio de 1000 simulações = -10.0\n"
     ]
    }
   ],
   "source": [
    "# Definir preço do bilhete, número de bilhetes disponíveis e valor do premio\n",
    "preco_bilhete, num_bilhetes, valor_premio = 10, 1000, 1000000\n",
    "chance_vencer = 1/num_bilhetes\n",
    "size = 1000\n",
    "ganhos = [-preco_bilhete, valor_premio-preco_bilhete]\n",
    "prob = [1-chance_vencer, chance_vencer]\n",
    "\n",
    "res = np.random.choice(a=ganhos, size=size, p=prob, replace=True)\n",
    "\n",
    "# Média dos resultados\n",
    "answer = np.mean(res)\n",
    "print(\"Retorno médio de {} simulações = {}\".format(size, answer))"
   ]
  },
  {
   "cell_type": "markdown",
   "metadata": {},
   "source": [
    "### Calculando um preço de loteria de equilíbrio\n",
    "\n",
    "As simulações nos permitem fazer perguntas mais sutis que podem não necessariamente ter uma solução analítica fácil. Em vez de resolver uma fórmula matemática complexa, obtemos diretamente vários resultados de amostra. Podemos realizar experimentos modificando entradas e estudando como essas mudanças afetam o sistema. Por exemplo, uma vez que temos um modelo razoavelmente razoável de padrões climáticos globais, poderíamos avaliar o impacto do aumento das emissões de gases de efeito estufa.\n",
    "\n",
    "No exemplo da loteria, podemos querer saber quão caro o bilhete precisa ser para não fazer sentido comprá-lo. Para entender isso, precisamos modificar o custo do ticket para ver quando o resultado esperado é negativo.\n"
   ]
  },
  {
   "cell_type": "code",
   "execution_count": 89,
   "metadata": {},
   "outputs": [
    {
     "name": "stdout",
     "output_type": "stream",
     "text": [
      "O preço mais alto pelo qual faz sentido comprar o bilhete é 0\n"
     ]
    }
   ],
   "source": [
    "# Initialize simulations and cost of ticket\n",
    "num_bilhetes, valor_premio = 1000, 1000000\n",
    "chance_vencer = 1/num_bilhetes\n",
    "sims, preco_bilhete = 1, 0\n",
    "\n",
    "\n",
    "#Use um loop while para incrementar `preco_bilhete` até que o valor médio dos resultados caia abaixo de zero\n",
    "while 1:\n",
    "    res = np.random.choice([-preco_bilhete, valor_premio-preco_bilhete], \n",
    "                           size=sims, \n",
    "                           p=[1-chance_vencer, chance_vencer], \n",
    "                           replace=True)\n",
    "    if res.mean() < 0:\n",
    "        break\n",
    "    else:\n",
    "        preco_bilhete += 1\n",
    "answer = preco_bilhete - 1\n",
    "\n",
    "print(\"O preço mais alto pelo qual faz sentido comprar o bilhete é {}\".format(answer))"
   ]
  }
 ],
 "metadata": {
  "kernelspec": {
   "display_name": "Python 3",
   "language": "python",
   "name": "python3"
  },
  "language_info": {
   "codemirror_mode": {
    "name": "ipython",
    "version": 3
   },
   "file_extension": ".py",
   "mimetype": "text/x-python",
   "name": "python",
   "nbconvert_exporter": "python",
   "pygments_lexer": "ipython3",
   "version": "3.6.4"
  }
 },
 "nbformat": 4,
 "nbformat_minor": 2
}
